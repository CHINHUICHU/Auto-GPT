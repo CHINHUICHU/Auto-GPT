{
  "nbformat": 4,
  "nbformat_minor": 0,
  "metadata": {
    "colab": {
      "provenance": [],
      "gpuType": "T4",
      "authorship_tag": "ABX9TyPDtWly/axYaq5Ojh0Q8Iud",
      "include_colab_link": true
    },
    "kernelspec": {
      "name": "python3",
      "display_name": "Python 3"
    },
    "language_info": {
      "name": "python"
    },
    "accelerator": "GPU"
  },
  "cells": [
    {
      "cell_type": "markdown",
      "metadata": {
        "id": "view-in-github",
        "colab_type": "text"
      },
      "source": [
        "<a href=\"https://colab.research.google.com/github/CHINHUICHU/Auto-GPT/blob/master/HW2_evaluation.ipynb\" target=\"_parent\"><img src=\"https://colab.research.google.com/assets/colab-badge.svg\" alt=\"Open In Colab\"/></a>"
      ]
    },
    {
      "cell_type": "code",
      "execution_count": null,
      "metadata": {
        "colab": {
          "base_uri": "https://localhost:8080/"
        },
        "id": "hCpiDjZyPuaZ",
        "outputId": "fc9f76c9-d5d3-400e-8a90-a4869526d0a6"
      },
      "outputs": [
        {
          "output_type": "stream",
          "name": "stdout",
          "text": [
            "Cloning into 'ADL24-HW2'...\n",
            "remote: Enumerating objects: 71, done.\u001b[K\n",
            "remote: Counting objects: 100% (71/71), done.\u001b[K\n",
            "remote: Compressing objects: 100% (66/66), done.\u001b[K\n",
            "remote: Total 71 (delta 22), reused 26 (delta 4), pack-reused 0 (from 0)\u001b[K\n",
            "Receiving objects: 100% (71/71), 18.58 KiB | 6.19 MiB/s, done.\n",
            "Resolving deltas: 100% (22/22), done.\n",
            "/content/ADL24-HW2\n",
            "Obtaining file:///content/ADL24-HW2/tw_rouge\n",
            "  Preparing metadata (setup.py) ... \u001b[?25l\u001b[?25hdone\n",
            "Collecting ckiptagger[gdown,tf] (from tw_rouge==0.1.0)\n",
            "  Downloading ckiptagger-0.2.1-py3-none-any.whl.metadata (11 kB)\n",
            "Collecting rouge (from tw_rouge==0.1.0)\n",
            "  Downloading rouge-1.0.1-py3-none-any.whl.metadata (4.1 kB)\n",
            "Requirement already satisfied: gdown in /usr/local/lib/python3.10/dist-packages (from ckiptagger[gdown,tf]->tw_rouge==0.1.0) (5.2.0)\n",
            "Requirement already satisfied: tensorflow>=1.13.1 in /usr/local/lib/python3.10/dist-packages (from ckiptagger[gdown,tf]->tw_rouge==0.1.0) (2.17.0)\n",
            "Requirement already satisfied: six in /usr/local/lib/python3.10/dist-packages (from rouge->tw_rouge==0.1.0) (1.16.0)\n",
            "Requirement already satisfied: absl-py>=1.0.0 in /usr/local/lib/python3.10/dist-packages (from tensorflow>=1.13.1->ckiptagger[gdown,tf]->tw_rouge==0.1.0) (1.4.0)\n",
            "Requirement already satisfied: astunparse>=1.6.0 in /usr/local/lib/python3.10/dist-packages (from tensorflow>=1.13.1->ckiptagger[gdown,tf]->tw_rouge==0.1.0) (1.6.3)\n",
            "Requirement already satisfied: flatbuffers>=24.3.25 in /usr/local/lib/python3.10/dist-packages (from tensorflow>=1.13.1->ckiptagger[gdown,tf]->tw_rouge==0.1.0) (24.3.25)\n",
            "Requirement already satisfied: gast!=0.5.0,!=0.5.1,!=0.5.2,>=0.2.1 in /usr/local/lib/python3.10/dist-packages (from tensorflow>=1.13.1->ckiptagger[gdown,tf]->tw_rouge==0.1.0) (0.6.0)\n",
            "Requirement already satisfied: google-pasta>=0.1.1 in /usr/local/lib/python3.10/dist-packages (from tensorflow>=1.13.1->ckiptagger[gdown,tf]->tw_rouge==0.1.0) (0.2.0)\n",
            "Requirement already satisfied: h5py>=3.10.0 in /usr/local/lib/python3.10/dist-packages (from tensorflow>=1.13.1->ckiptagger[gdown,tf]->tw_rouge==0.1.0) (3.11.0)\n",
            "Requirement already satisfied: libclang>=13.0.0 in /usr/local/lib/python3.10/dist-packages (from tensorflow>=1.13.1->ckiptagger[gdown,tf]->tw_rouge==0.1.0) (18.1.1)\n",
            "Requirement already satisfied: ml-dtypes<0.5.0,>=0.3.1 in /usr/local/lib/python3.10/dist-packages (from tensorflow>=1.13.1->ckiptagger[gdown,tf]->tw_rouge==0.1.0) (0.4.1)\n",
            "Requirement already satisfied: opt-einsum>=2.3.2 in /usr/local/lib/python3.10/dist-packages (from tensorflow>=1.13.1->ckiptagger[gdown,tf]->tw_rouge==0.1.0) (3.4.0)\n",
            "Requirement already satisfied: packaging in /usr/local/lib/python3.10/dist-packages (from tensorflow>=1.13.1->ckiptagger[gdown,tf]->tw_rouge==0.1.0) (24.1)\n",
            "Requirement already satisfied: protobuf!=4.21.0,!=4.21.1,!=4.21.2,!=4.21.3,!=4.21.4,!=4.21.5,<5.0.0dev,>=3.20.3 in /usr/local/lib/python3.10/dist-packages (from tensorflow>=1.13.1->ckiptagger[gdown,tf]->tw_rouge==0.1.0) (3.20.3)\n",
            "Requirement already satisfied: requests<3,>=2.21.0 in /usr/local/lib/python3.10/dist-packages (from tensorflow>=1.13.1->ckiptagger[gdown,tf]->tw_rouge==0.1.0) (2.32.3)\n",
            "Requirement already satisfied: setuptools in /usr/local/lib/python3.10/dist-packages (from tensorflow>=1.13.1->ckiptagger[gdown,tf]->tw_rouge==0.1.0) (71.0.4)\n",
            "Requirement already satisfied: termcolor>=1.1.0 in /usr/local/lib/python3.10/dist-packages (from tensorflow>=1.13.1->ckiptagger[gdown,tf]->tw_rouge==0.1.0) (2.5.0)\n",
            "Requirement already satisfied: typing-extensions>=3.6.6 in /usr/local/lib/python3.10/dist-packages (from tensorflow>=1.13.1->ckiptagger[gdown,tf]->tw_rouge==0.1.0) (4.12.2)\n",
            "Requirement already satisfied: wrapt>=1.11.0 in /usr/local/lib/python3.10/dist-packages (from tensorflow>=1.13.1->ckiptagger[gdown,tf]->tw_rouge==0.1.0) (1.16.0)\n",
            "Requirement already satisfied: grpcio<2.0,>=1.24.3 in /usr/local/lib/python3.10/dist-packages (from tensorflow>=1.13.1->ckiptagger[gdown,tf]->tw_rouge==0.1.0) (1.64.1)\n",
            "Requirement already satisfied: tensorboard<2.18,>=2.17 in /usr/local/lib/python3.10/dist-packages (from tensorflow>=1.13.1->ckiptagger[gdown,tf]->tw_rouge==0.1.0) (2.17.0)\n",
            "Requirement already satisfied: keras>=3.2.0 in /usr/local/lib/python3.10/dist-packages (from tensorflow>=1.13.1->ckiptagger[gdown,tf]->tw_rouge==0.1.0) (3.4.1)\n",
            "Requirement already satisfied: tensorflow-io-gcs-filesystem>=0.23.1 in /usr/local/lib/python3.10/dist-packages (from tensorflow>=1.13.1->ckiptagger[gdown,tf]->tw_rouge==0.1.0) (0.37.1)\n",
            "Requirement already satisfied: numpy<2.0.0,>=1.23.5 in /usr/local/lib/python3.10/dist-packages (from tensorflow>=1.13.1->ckiptagger[gdown,tf]->tw_rouge==0.1.0) (1.26.4)\n",
            "Requirement already satisfied: beautifulsoup4 in /usr/local/lib/python3.10/dist-packages (from gdown->ckiptagger[gdown,tf]->tw_rouge==0.1.0) (4.12.3)\n",
            "Requirement already satisfied: filelock in /usr/local/lib/python3.10/dist-packages (from gdown->ckiptagger[gdown,tf]->tw_rouge==0.1.0) (3.16.1)\n",
            "Requirement already satisfied: tqdm in /usr/local/lib/python3.10/dist-packages (from gdown->ckiptagger[gdown,tf]->tw_rouge==0.1.0) (4.66.5)\n",
            "Requirement already satisfied: wheel<1.0,>=0.23.0 in /usr/local/lib/python3.10/dist-packages (from astunparse>=1.6.0->tensorflow>=1.13.1->ckiptagger[gdown,tf]->tw_rouge==0.1.0) (0.44.0)\n",
            "Requirement already satisfied: rich in /usr/local/lib/python3.10/dist-packages (from keras>=3.2.0->tensorflow>=1.13.1->ckiptagger[gdown,tf]->tw_rouge==0.1.0) (13.9.2)\n",
            "Requirement already satisfied: namex in /usr/local/lib/python3.10/dist-packages (from keras>=3.2.0->tensorflow>=1.13.1->ckiptagger[gdown,tf]->tw_rouge==0.1.0) (0.0.8)\n",
            "Requirement already satisfied: optree in /usr/local/lib/python3.10/dist-packages (from keras>=3.2.0->tensorflow>=1.13.1->ckiptagger[gdown,tf]->tw_rouge==0.1.0) (0.13.0)\n",
            "Requirement already satisfied: charset-normalizer<4,>=2 in /usr/local/lib/python3.10/dist-packages (from requests<3,>=2.21.0->tensorflow>=1.13.1->ckiptagger[gdown,tf]->tw_rouge==0.1.0) (3.3.2)\n",
            "Requirement already satisfied: idna<4,>=2.5 in /usr/local/lib/python3.10/dist-packages (from requests<3,>=2.21.0->tensorflow>=1.13.1->ckiptagger[gdown,tf]->tw_rouge==0.1.0) (3.10)\n",
            "Requirement already satisfied: urllib3<3,>=1.21.1 in /usr/local/lib/python3.10/dist-packages (from requests<3,>=2.21.0->tensorflow>=1.13.1->ckiptagger[gdown,tf]->tw_rouge==0.1.0) (2.2.3)\n",
            "Requirement already satisfied: certifi>=2017.4.17 in /usr/local/lib/python3.10/dist-packages (from requests<3,>=2.21.0->tensorflow>=1.13.1->ckiptagger[gdown,tf]->tw_rouge==0.1.0) (2024.8.30)\n",
            "Requirement already satisfied: markdown>=2.6.8 in /usr/local/lib/python3.10/dist-packages (from tensorboard<2.18,>=2.17->tensorflow>=1.13.1->ckiptagger[gdown,tf]->tw_rouge==0.1.0) (3.7)\n",
            "Requirement already satisfied: tensorboard-data-server<0.8.0,>=0.7.0 in /usr/local/lib/python3.10/dist-packages (from tensorboard<2.18,>=2.17->tensorflow>=1.13.1->ckiptagger[gdown,tf]->tw_rouge==0.1.0) (0.7.2)\n",
            "Requirement already satisfied: werkzeug>=1.0.1 in /usr/local/lib/python3.10/dist-packages (from tensorboard<2.18,>=2.17->tensorflow>=1.13.1->ckiptagger[gdown,tf]->tw_rouge==0.1.0) (3.0.4)\n",
            "Requirement already satisfied: soupsieve>1.2 in /usr/local/lib/python3.10/dist-packages (from beautifulsoup4->gdown->ckiptagger[gdown,tf]->tw_rouge==0.1.0) (2.6)\n",
            "Requirement already satisfied: PySocks!=1.5.7,>=1.5.6 in /usr/local/lib/python3.10/dist-packages (from requests[socks]->gdown->ckiptagger[gdown,tf]->tw_rouge==0.1.0) (1.7.1)\n",
            "Requirement already satisfied: MarkupSafe>=2.1.1 in /usr/local/lib/python3.10/dist-packages (from werkzeug>=1.0.1->tensorboard<2.18,>=2.17->tensorflow>=1.13.1->ckiptagger[gdown,tf]->tw_rouge==0.1.0) (2.1.5)\n",
            "Requirement already satisfied: markdown-it-py>=2.2.0 in /usr/local/lib/python3.10/dist-packages (from rich->keras>=3.2.0->tensorflow>=1.13.1->ckiptagger[gdown,tf]->tw_rouge==0.1.0) (3.0.0)\n",
            "Requirement already satisfied: pygments<3.0.0,>=2.13.0 in /usr/local/lib/python3.10/dist-packages (from rich->keras>=3.2.0->tensorflow>=1.13.1->ckiptagger[gdown,tf]->tw_rouge==0.1.0) (2.18.0)\n",
            "Requirement already satisfied: mdurl~=0.1 in /usr/local/lib/python3.10/dist-packages (from markdown-it-py>=2.2.0->rich->keras>=3.2.0->tensorflow>=1.13.1->ckiptagger[gdown,tf]->tw_rouge==0.1.0) (0.1.2)\n",
            "Downloading rouge-1.0.1-py3-none-any.whl (13 kB)\n",
            "Downloading ckiptagger-0.2.1-py3-none-any.whl (34 kB)\n",
            "Installing collected packages: rouge, ckiptagger, tw_rouge\n",
            "  Running setup.py develop for tw_rouge\n",
            "Successfully installed ckiptagger-0.2.1 rouge-1.0.1 tw_rouge-0.1.0\n"
          ]
        }
      ],
      "source": [
        "!git clone https://github.com/deankuo/ADL24-HW2.git\n",
        "%cd ADL24-HW2\n",
        "!pip install -e tw_rouge"
      ]
    },
    {
      "cell_type": "code",
      "source": [
        "from google.colab import drive\n",
        "drive.mount('/content/drive')"
      ],
      "metadata": {
        "colab": {
          "base_uri": "https://localhost:8080/"
        },
        "id": "WQEngSo9SwQ9",
        "outputId": "1265e333-3a62-48e2-eb21-e96be2a30801"
      },
      "execution_count": null,
      "outputs": [
        {
          "output_type": "stream",
          "name": "stdout",
          "text": [
            "Mounted at /content/drive\n"
          ]
        }
      ]
    },
    {
      "cell_type": "code",
      "source": [
        "import os\n",
        "\n",
        "from ckiptagger import WS, data_utils\n",
        "from rouge import Rouge\n",
        "import json\n",
        "\n",
        "cache_dir = os.environ.get(\"XDG_CACHE_HOME\", os.path.join(os.getenv(\"HOME\"), \".cache\"))\n",
        "download_dir = os.path.join(cache_dir, \"ckiptagger\")\n",
        "data_dir = os.path.join(cache_dir, \"ckiptagger/data\")\n",
        "os.makedirs(download_dir, exist_ok=True)\n",
        "os.environ[\"TF_USE_LEGACY_KERAS\"] = \"1\"\n",
        "if not os.path.exists(os.path.join(data_dir, \"model_ws\")):\n",
        "    data_utils.download_data_url(download_dir)\n",
        "\n",
        "ws = WS(data_dir, disable_cuda=False)\n",
        "\n",
        "\n",
        "def tokenize_and_join(sentences):\n",
        "    return [\" \".join(toks) for toks in ws(sentences)]\n",
        "\n",
        "\n",
        "rouge = Rouge()\n",
        "\n",
        "\n",
        "def get_rouge(preds, refs, avg=True, ignore_empty=False):\n",
        "    \"\"\"wrapper around: from rouge import Rouge\n",
        "    Args:\n",
        "        preds: string or list of strings\n",
        "        refs: string or list of strings\n",
        "        avg: bool, return the average metrics if set to True\n",
        "        ignore_empty: bool, ignore empty pairs if set to True\n",
        "    \"\"\"\n",
        "    if not isinstance(preds, list):\n",
        "        preds = [preds]\n",
        "    if not isinstance(refs, list):\n",
        "        refs = [refs]\n",
        "    preds, refs = tokenize_and_join(preds), tokenize_and_join(refs)\n",
        "    return rouge.get_scores(preds, refs, avg=avg, ignore_empty=ignore_empty)\n",
        "\n",
        "\n",
        "refs, preds = {}, {}\n",
        "\n",
        "reference = \"/content/drive/My Drive/adl-hw2-data/public.jsonl\"\n",
        "submission = \"/content/drive/My Drive/adl-hw2-output/predictions-2.jsonl\"\n",
        "\n",
        "with open(reference) as file:\n",
        "    for line in file:\n",
        "        line = json.loads(line)\n",
        "        refs[line['id']] = line['title'].strip() + '\\n'\n",
        "\n",
        "with open(submission) as file:\n",
        "    for line in file:\n",
        "        line = json.loads(line)\n",
        "        preds[line['id']] = line['title'].strip() + '\\n'\n",
        "\n",
        "keys =  refs.keys()\n",
        "refs = [refs[key] for key in keys]\n",
        "preds = [preds[key] for key in keys]\n",
        "\n",
        "print(json.dumps(get_rouge(preds, refs), indent=2))\n",
        "\n",
        "\n"
      ],
      "metadata": {
        "colab": {
          "base_uri": "https://localhost:8080/"
        },
        "id": "klOC351GSVQx",
        "outputId": "a6b1ee6c-1f72-4eb0-9d57-1cc2917a3d89"
      },
      "execution_count": null,
      "outputs": [
        {
          "output_type": "stream",
          "name": "stderr",
          "text": [
            "/usr/local/lib/python3.10/dist-packages/ckiptagger/model_ws.py:106: UserWarning: `tf.nn.rnn_cell.LSTMCell` is deprecated and will be removed in a future version. This class is equivalent as `tf.keras.layers.LSTMCell`, and will be replaced by that in Tensorflow 2.0.\n",
            "  cell = tf.compat.v1.nn.rnn_cell.LSTMCell(hidden_d, name=name)\n"
          ]
        },
        {
          "output_type": "stream",
          "name": "stdout",
          "text": [
            "{\n",
            "  \"rouge-1\": {\n",
            "    \"r\": 0.25358283127640974,\n",
            "    \"p\": 0.2817865142534032,\n",
            "    \"f\": 0.25984384706048624\n",
            "  },\n",
            "  \"rouge-2\": {\n",
            "    \"r\": 0.09025022719120931,\n",
            "    \"p\": 0.1001225754563468,\n",
            "    \"f\": 0.0921234501253248\n",
            "  },\n",
            "  \"rouge-l\": {\n",
            "    \"r\": 0.22102576654556383,\n",
            "    \"p\": 0.24552238978048643,\n",
            "    \"f\": 0.2262737524065005\n",
            "  }\n",
            "}\n"
          ]
        }
      ]
    }
  ]
}